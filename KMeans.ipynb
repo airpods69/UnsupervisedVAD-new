{
 "cells": [
  {
   "cell_type": "code",
   "execution_count": 11,
   "metadata": {},
   "outputs": [],
   "source": [
    "import torch\n",
    "from Architecture.generator import AE\n",
    "\n",
    "import numpy as np\n",
    "import os"
   ]
  },
  {
   "cell_type": "code",
   "execution_count": 12,
   "metadata": {},
   "outputs": [],
   "source": [
    "device = 'cuda:6' if torch.cuda.is_available() else 'cpu'"
   ]
  },
  {
   "cell_type": "code",
   "execution_count": 14,
   "metadata": {},
   "outputs": [],
   "source": [
    "feats_rgb = '/shared/home/v_varenyam_bhardwaj/local_scratch/Dataset/UCF-Crime/all_rgbs/'"
   ]
  },
  {
   "cell_type": "code",
   "execution_count": 18,
   "metadata": {},
   "outputs": [],
   "source": [
    "def load_features(path: str) -> np.ndarray:\n",
    "    \"\"\"\n",
    "    Loads features to a numpy array and returns it\n",
    "    Args\n",
    "        Input: path to features directory\n",
    "        Output: Numpy array of features\n",
    "    \"\"\"\n",
    "\n",
    "    listOfDirectories = os.listdir(path)\n",
    "    features= []\n",
    "\n",
    "    for i in listOfDirectories:\n",
    "        listOfSubDirectories = os.listdir(os.path.join(path, i))\n",
    "\n",
    "        for j in listOfSubDirectories:\n",
    "            feat_npy = np.load(os.path.join(os.path.join(path, i), j))\n",
    "            feat_npy = np.array(feat_npy, dtype = np.float32)\n",
    "\n",
    "            features.append(feat_npy)\n",
    "\n",
    "    features = np.array(features)\n",
    "\n",
    "    return features"
   ]
  },
  {
   "cell_type": "code",
   "execution_count": 19,
   "metadata": {},
   "outputs": [],
   "source": [
    "features = load_features(feats_rgb)"
   ]
  },
  {
   "cell_type": "code",
   "execution_count": 17,
   "metadata": {},
   "outputs": [
    {
     "data": {
      "text/plain": [
       "(60800, 1024)"
      ]
     },
     "execution_count": 17,
     "metadata": {},
     "output_type": "execute_result"
    }
   ],
   "source": []
  }
 ],
 "metadata": {
  "kernelspec": {
   "display_name": "Python 3.9.12 ('pytorch')",
   "language": "python",
   "name": "python3"
  },
  "language_info": {
   "codemirror_mode": {
    "name": "ipython",
    "version": 3
   },
   "file_extension": ".py",
   "mimetype": "text/x-python",
   "name": "python",
   "nbconvert_exporter": "python",
   "pygments_lexer": "ipython3",
   "version": "3.9.12"
  },
  "orig_nbformat": 4,
  "vscode": {
   "interpreter": {
    "hash": "2da6e3ab3a4a0dcbb5980d7c91fbc592553cb4bb9c2ec82f1ddaf130d1ca479f"
   }
  }
 },
 "nbformat": 4,
 "nbformat_minor": 2
}
